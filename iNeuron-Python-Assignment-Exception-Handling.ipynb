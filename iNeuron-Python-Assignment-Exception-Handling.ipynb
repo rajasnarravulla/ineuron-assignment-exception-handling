{
 "cells": [
  {
   "cell_type": "markdown",
   "metadata": {},
   "source": [
    "### iNeuron-Python-Assignment-Exception-Handling"
   ]
  },
  {
   "cell_type": "markdown",
   "metadata": {},
   "source": [
    "#### 1. Write a function to compute 5/0 and use try/except to catch the exceptions. \n",
    "\n"
   ]
  },
  {
   "cell_type": "code",
   "execution_count": 1,
   "metadata": {},
   "outputs": [
    {
     "name": "stdout",
     "output_type": "stream",
     "text": [
      "Enter the Numerator: 5\n",
      "Enter the Denominator: 0\n",
      "\n",
      "Oops ... I am sure you dont want to touch infinity. \n",
      "You cannot divide by 0. Please enter a Non-Zero number.\n"
     ]
    }
   ],
   "source": [
    "try:\n",
    "    num = int(input(\"Enter the Numerator: \"))\n",
    "    den = int(input(\"Enter the Denominator: \"))\n",
    "    result = num / den\n",
    "    print(\"Result of dividing Numerator with Denominator is: %0.2f\" %result)\n",
    "except ValueError:\n",
    "    print(\"\\nSorry, i am unable to execute this. Please try with integers.\")\n",
    "except ZeroDivisionError:\n",
    "    print('\\nOops ... I am sure you dont want to touch infinity. \\nYou cannot divide by 0. Please enter a Non-Zero number.')\n",
    "except Exception as e:\n",
    "    print('\\nError: ', e)"
   ]
  },
  {
   "cell_type": "markdown",
   "metadata": {},
   "source": [
    "#### 2. Implement a Python program to generate all sentences where subject is in  [\"Americans\", \"Indians\"] and verb is in [\"Play\", \"watch\"] and the object is in  [\"Baseball\",\"cricket\"].\n",
    "\n",
    "Hint: Subject,Verb and Object should be declared in the program as shown below. \n",
    "\n",
    "subjects=[\"Americans \",\"Indians\"]\n",
    "\n",
    "verbs=[\"play\",\"watch\"] \n",
    "\n",
    "objects=[\"Baseball\",\"Cricket\"] "
   ]
  },
  {
   "cell_type": "code",
   "execution_count": 2,
   "metadata": {},
   "outputs": [
    {
     "name": "stdout",
     "output_type": "stream",
     "text": [
      "\n",
      "** Method-1 (For loops) **\n",
      "\n",
      "Americans play Baseball.\n",
      "Americans play Cricket.\n",
      "Americans watch Baseball.\n",
      "Americans watch Cricket.\n",
      "Indians play Baseball.\n",
      "Indians play Cricket.\n",
      "Indians watch Baseball.\n",
      "Indians watch Cricket.\n",
      "\n",
      "\n",
      "** Method-2 (List Comprehension) **\n",
      "\n",
      "Americans play Baseball.\n",
      "Americans play Cricket.\n",
      "Americans watch Baseball.\n",
      "Americans watch Cricket.\n",
      "Indians play Baseball.\n",
      "Indians play Cricket.\n",
      "Indians watch Baseball.\n",
      "Indians watch Cricket.\n"
     ]
    }
   ],
   "source": [
    "subjects=[\"Americans\",\"Indians\"]\n",
    "verbs=[\"play\",\"watch\"]\n",
    "objects=[\"Baseball\",\"Cricket\"]\n",
    "\n",
    "print(\"\\n** Method-1 (For loops) **\\n\")\n",
    "for sub in subjects:\n",
    "    for verb in verbs:\n",
    "        for ob in objects:\n",
    "            print('%s %s %s.' %(sub, verb, ob))\n",
    "\n",
    "print(\"\\n\\n** Method-2 (List Comprehension) **\\n\")\n",
    "resultlist = [sub+' '+verb+' '+ob+'.' for sub in subjects for verb in verbs for ob in objects]\n",
    "for line in resultlist:\n",
    "    print(line)"
   ]
  }
 ],
 "metadata": {
  "kernelspec": {
   "display_name": "Python 3",
   "language": "python",
   "name": "python3"
  },
  "language_info": {
   "codemirror_mode": {
    "name": "ipython",
    "version": 3
   },
   "file_extension": ".py",
   "mimetype": "text/x-python",
   "name": "python",
   "nbconvert_exporter": "python",
   "pygments_lexer": "ipython3",
   "version": "3.8.5"
  }
 },
 "nbformat": 4,
 "nbformat_minor": 4
}
